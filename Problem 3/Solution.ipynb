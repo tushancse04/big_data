{
 "cells": [
  {
   "cell_type": "code",
   "execution_count": 12,
   "metadata": {},
   "outputs": [
    {
     "name": "stdout",
     "output_type": "stream",
     "text": [
      "Done\n"
     ]
    }
   ],
   "source": [
    "from pyspark import SparkContext\n",
    "class FileReader:\n",
    "    def __init__(self,dfile,rfile,cfile,xfile):\n",
    "        self.data = self.getline(dfile)\n",
    "        self.ridx = self.getline(rfile)\n",
    "        self.cidx = self.getline(cfile)\n",
    "        self.xvector = self.getline(xfile)\n",
    "        self.ridx = [(i,self.ridx[i],self.ridx[i+1]) for i in range(len(self.ridx) -1)]\n",
    "\n",
    "    def getline(self,fname):\n",
    "        ifile = open(fname)\n",
    "        values = ifile.readline().strip().split(' ')\n",
    "        ifile.close()\n",
    "        result = [int(v.strip()) for v in values]\n",
    "        return result\n",
    "    \n",
    "    \n",
    "class Mapper:\n",
    "    def __init__(self):\n",
    "        pass\n",
    "    \n",
    "    def map_func(self,a,b,fr):\n",
    "        return [fr.data[j]*fr.xvector[fr.cidx[j]] for j in range(a,b,1)]\n",
    "    \n",
    "    def map(self,fr):\n",
    "        sc = SparkContext.getOrCreate()\n",
    "        ridx = sc.parallelize(fr.ridx)\n",
    "        return ridx.map(lambda x:(x[0],self.map_func(x[1],x[2],fr)))\n",
    "    \n",
    "class Reducer:\n",
    "    def __init__(self):\n",
    "        pass\n",
    "    \n",
    "    def reduce(self,m):\n",
    "        return m.map(lambda x: (x[0],sum(x[1]))).collect()\n",
    "        \n",
    "    \n",
    "class Multiplicator:\n",
    "    def __init__(self,dfile,rfile,cfile,xfile):\n",
    "        fr = FileReader(dfile,rfile,cfile,xfile)\n",
    "        mapper = Mapper()\n",
    "        m = mapper.map(fr)\n",
    "        reducer = Reducer()\n",
    "        r = reducer.reduce(m)\n",
    "        r = sorted(r,key=lambda x:x[0])\n",
    "        result = \"\"\n",
    "        for x in r:\n",
    "            result += str(x[1]) + \" \"\n",
    "        ofile = open(\"yvector\",'w')\n",
    "        ofile.write(result)\n",
    "        ofile.close()\n",
    "        \n",
    "        \n",
    "    \n",
    "    \n",
    "m = Multiplicator(\"data\",\"rindx\",\"cindx\",\"xvector\")\n",
    "print(\"Done\")"
   ]
  },
  {
   "cell_type": "code",
   "execution_count": null,
   "metadata": {},
   "outputs": [],
   "source": []
  },
  {
   "cell_type": "code",
   "execution_count": null,
   "metadata": {},
   "outputs": [],
   "source": []
  },
  {
   "cell_type": "code",
   "execution_count": null,
   "metadata": {},
   "outputs": [],
   "source": []
  }
 ],
 "metadata": {
  "kernelspec": {
   "display_name": "Python 3",
   "language": "python",
   "name": "python3"
  }
 },
 "nbformat": 4,
 "nbformat_minor": 2
}
