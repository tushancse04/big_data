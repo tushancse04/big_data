{
 "cells": [
  {
   "cell_type": "code",
   "execution_count": 4,
   "metadata": {},
   "outputs": [
    {
     "name": "stdout",
     "output_type": "stream",
     "text": [
      "[5, 1, 7, 3, 2]\n",
      "[0, 1, 3, 4, 5]\n",
      "[1, 0, 3, 1, 1]\n",
      "[3, 2, 4, 1]\n",
      "[(0, 1), (1, 3), (3, 4), (4, 5)]\n"
     ]
    }
   ],
   "source": [
    "class FileReader:\n",
    "    def __init__(self,dfile,rfile,cfile,xfile):\n",
    "        self.data = self.getline(dfile)\n",
    "        self.ridx = self.getline(rfile)\n",
    "        self.cidx = self.getline(cfile)\n",
    "        self.xvector = self.getline(xfile)\n",
    "        self.ridx = [(self.ridx[i],self.ridx[i+1]) for i in range(len(self.ridx) -1)]\n",
    "\n",
    "    def getline(self,fname):\n",
    "        ifile = open(fname)\n",
    "        values = ifile.readline().strip().split(' ')\n",
    "        ifile.close()\n",
    "        result = [int(v.strip()) for v in values]\n",
    "        return result\n",
    "    \n",
    "    \n",
    "class Mapper:\n",
    "    def __init__(self):\n",
    "        pass\n",
    "    \n",
    "class Reducer:\n",
    "    def __init__(self):\n",
    "        pass\n",
    "    \n",
    "class Multiplicator:\n",
    "    def __init__(self,dfile,rfile,cfile,xfile):\n",
    "        fr = FileReader(dfile,rfile,cfile,xfile)\n",
    "        \n",
    "        \n",
    "        \n",
    "    \n",
    "    \n",
    "m = Multiplicator(\"data.txt\",\"ridx.txt\",\"cidx.txt\",\"xvector.txt\")"
   ]
  },
  {
   "cell_type": "code",
   "execution_count": null,
   "metadata": {},
   "outputs": [],
   "source": []
  },
  {
   "cell_type": "code",
   "execution_count": null,
   "metadata": {},
   "outputs": [],
   "source": []
  },
  {
   "cell_type": "code",
   "execution_count": null,
   "metadata": {},
   "outputs": [],
   "source": []
  }
 ],
 "metadata": {
  "kernelspec": {
   "display_name": "Python 3",
   "language": "python",
   "name": "python3"
  }
 },
 "nbformat": 4,
 "nbformat_minor": 2
}
