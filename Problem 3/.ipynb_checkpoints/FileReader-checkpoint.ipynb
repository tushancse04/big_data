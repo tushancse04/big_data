{
 "cells": [
  {
   "cell_type": "code",
   "execution_count": 1,
   "metadata": {},
   "outputs": [],
   "source": [
    "class FileReader:\n",
    "    def __init__(self,dfile,rfile,cfile,xfile):\n",
    "        self.data = self.getline(dfile)\n",
    "        self.ridx = self.getline(rfile)\n",
    "        self.cidx = self.getline(cfile)\n",
    "        self.xvector = self.getline(xfile)\n",
    "\n",
    "    def getline(self,fname):\n",
    "        ifile = open(fname)\n",
    "        values = ifile.readline().strip().split(' ')\n",
    "        ifile.close()\n",
    "        return values\n",
    "    \n"
   ]
  },
  {
   "cell_type": "code",
   "execution_count": null,
   "metadata": {},
   "outputs": [],
   "source": []
  }
 ],
 "metadata": {
  "kernelspec": {
   "display_name": "Python 3",
   "language": "python",
   "name": "python3"
  },
  "language_info": {
   "codemirror_mode": {
    "name": "ipython",
    "version": 3
   },
   "file_extension": ".py",
   "mimetype": "text/x-python",
   "name": "python",
   "nbconvert_exporter": "python",
   "pygments_lexer": "ipython3",
   "version": "3.6.5"
  }
 },
 "nbformat": 4,
 "nbformat_minor": 2
}
