{
 "cells": [
  {
   "cell_type": "code",
   "execution_count": null,
   "metadata": {},
   "outputs": [],
   "source": [
    "Nodes = {}\n",
    "class Node:\n",
    "    def __init__(self,id):  \n",
    "        self.id = id\n",
    "        self.Children = []\n",
    "        self.visited = False\n",
    "\n",
    "        \n",
    "    def AddChild(self,cid):\n",
    "        self.Children.append(cid)\n",
    "        \n",
    "    @staticmethod\n",
    "    def get_node(id):\n",
    "        global Nodes\n",
    "        if id not in Nodes:\n",
    "            Nodes[id] = Node(id)\n",
    "        return Nodes[id]\n",
    "    \n",
    "class BFS:\n",
    "    def __init__(self):\n",
    "        pass\n",
    "    \n",
    "    def run(self,edges):\n",
    "        global Nodes\n",
    "        for e in edges:\n",
    "            node1 = Node.get_node(e[0])\n",
    "            node2 = Node.get_node(e[1])\n",
    "            node1.AddChild(e[1])\n",
    "            node2.AddChild(e[0])\n",
    "        \n",
    "        self.idlist = [n.id for n in Nodes]    \n",
    "        l = self.idlist\n",
    "        count = 0\n",
    "        while len(l) > 0:\n",
    "            print(count)\n",
    "            start = l[-1]\n",
    "            que = [start]\n",
    "            count += 1\n",
    "            while len(que) > 0:\n",
    "                nque = []\n",
    "                for nid in que:\n",
    "                    self.idlist.remove(nid)\n",
    "                    node = Node.get_node(nid)\n",
    "                    nque += node.Children\n",
    "                que = nque[:]\n",
    "            \n",
    "        "
   ]
  }
 ],
 "metadata": {
  "kernelspec": {
   "display_name": "Python 3",
   "language": "python",
   "name": "python3"
  },
  "language_info": {
   "codemirror_mode": {
    "name": "ipython",
    "version": 3
   },
   "file_extension": ".py",
   "mimetype": "text/x-python",
   "name": "python",
   "nbconvert_exporter": "python",
   "pygments_lexer": "ipython3",
   "version": "3.6.5"
  }
 },
 "nbformat": 4,
 "nbformat_minor": 2
}
